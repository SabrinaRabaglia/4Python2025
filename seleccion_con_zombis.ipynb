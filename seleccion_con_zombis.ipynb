{
 "cells": [
  {
   "cell_type": "markdown",
   "metadata": {},
   "source": [
    "1. Tenemos un zombi con vida inicial 100.\n",
    "Se ingresa por consola la cantidad de puntos de vida que van a afectar al zombi (si son positivos, gana vida; si son negativos, pierde vida). \n",
    "Hay que determinar si el zombi se muere, que pasa cuando la cantidad de puntos de vida es 0 o menos. "
   ]
  },
  {
   "cell_type": "code",
   "execution_count": 2,
   "metadata": {},
   "outputs": [
    {
     "name": "stdout",
     "output_type": "stream",
     "text": [
      "El zombi sigue vivo\n",
      "True\n",
      "La vida final del zombi es: 190\n"
     ]
    }
   ],
   "source": [
    "vida = 100\n",
    "puntos = int(input())\n",
    "vida = vida + puntos #vida +=puntos\n",
    "if vida>0:\n",
    "  print(\"El zombi sigue vivo\")\n",
    "  vivo = True\n",
    "else: \n",
    "  print(\"Se murio el zombi\")\n",
    "  vivo = False\n",
    "\n",
    "print(vivo)\n",
    "print(f\"La vida final del zombi es: {vida}\")"
   ]
  },
  {
   "cell_type": "markdown",
   "metadata": {},
   "source": [
    "Tenemos un personaje que tiene que enfrentarse a muchos enemigos que vienen en patota. El programa tiene que poder saber cuántos enemigos tiene cada patota y cuánto daño va a hacer cada uno de ellos. Con el ataque, nuestro personaje pierde puntos de vida, que inicialmente es 1000. \n",
    "Después del ataque queremos mostrar la vida que le queda al personaje.\n"
   ]
  },
  {
   "cell_type": "code",
   "execution_count": 4,
   "metadata": {},
   "outputs": [
    {
     "name": "stdout",
     "output_type": "stream",
     "text": [
      "La vida final del personaje es: -59000 y el daño total es 60000\n"
     ]
    }
   ],
   "source": [
    "vida = 1000\n",
    "cantidad_enemigos = int(input(\"Cantidad de enemigos: \"))\n",
    "danio_individual = int(input(\"Cuanto daño hace cada enemigo: \"))\n",
    "danio_total = cantidad_enemigos * danio_individual\n",
    "vida = vida - danio_total\n",
    "print(f\"La vida final del personaje es: {vida} y el daño total es {danio_total}\")"
   ]
  },
  {
   "cell_type": "markdown",
   "metadata": {},
   "source": [
    "Tenemos un personaje que tiene que caminar por el mapa. \n",
    "Si el mapa es como un plano en matemática, pensemos que cada punto tiene dos valores: la posición horizontal (x) y la posición vertical (y).\n",
    "\n",
    "Tenemos que hacer un programa que primero le pida al usuario que diga cuál es la posición inicial del personaje, y después pida cuánto se mueve en cada dirección. \n",
    "Al final, tiene que mostrar por la pantalla la posición actual del personaje y en qué dirección se movió en cada eje."
   ]
  },
  {
   "cell_type": "code",
   "execution_count": null,
   "metadata": {},
   "outputs": [],
   "source": [
    "x_inicial = int(input(\"Posición horizontal inicial: \"))\n",
    "y_inicial = int(input(\"Posición vertical inicial: \"))\n",
    "movimiento_x = int(input(\"Cuanto se mueve a los costados: \"))\n",
    "movimiento_y = int(input(\"Cuanto se mueve en vertical: \"))\n",
    "x_final = x_inicial + movimiento_x\n",
    "y_final = y_inicial + movimiento_y\n",
    "print(f\"La posicion final es ({x_final},{y_final})\")\n",
    "if movimiento_x > 0 and movimiento_y>0: \n",
    "  print(\"Se movió a la derecha y arriba\")\n",
    "elif movimiento_x>0 and movimiento_y<0: \n",
    "  print(\"Se movió a la derecha y abajo\")\n",
    "elif movimiento_x < 0 and movimiento_y > 0: \n",
    "  print(\"Se movió a la izquierda y arriba\")\n",
    "elif movimiento_x < 0 and movimiento_y < 0:\n",
    "  print(\"Se movió a la izquierda y abajo\")\n",
    "elif movimiento_x>0 and movimiento_y == 0:\n",
    "  print(\"Solo se movio a la derecha\")\n",
    "elif movimiento_x<0 and movimiento_y == 0: \n",
    "  print(\"Solo se movio a la izquierda\")\n",
    "elif movimiento_x == 0 and movimiento_y >0:\n",
    "  print(\"Solo se movio arriba\")\n",
    "elif movimiento_x == 0 and movimiento_y <0: \n",
    "  print(\"Solo se movio abajo\")\n",
    "else: \n",
    "  print(\"No se movio\")"
   ]
  },
  {
   "cell_type": "code",
   "execution_count": 6,
   "metadata": {},
   "outputs": [
    {
     "name": "stdout",
     "output_type": "stream",
     "text": [
      "La posición final es (-4, 8)\n",
      "Se movió a la izquierda\n",
      "Se movió arriba\n"
     ]
    }
   ],
   "source": [
    "#Aca tienen una versión más linda del código de arriba :)\n",
    "x_inicial = int(input(\"Posición horizontal inicial: \"))\n",
    "y_inicial = int(input(\"Posición vertical inicial: \"))\n",
    "\n",
    "movimiento_x = int(input(\"Cuánto se mueve a los costados: \"))\n",
    "movimiento_y = int(input(\"Cuánto se mueve en vertical: \"))\n",
    "\n",
    "x_final = x_inicial + movimiento_x\n",
    "y_final = y_inicial + movimiento_y\n",
    "\n",
    "print(f\"La posición final es ({x_final}, {y_final})\")\n",
    "\n",
    "if movimiento_x == 0 and movimiento_y == 0:\n",
    "    print(\"No se movió\")\n",
    "else:\n",
    "    if movimiento_x > 0:\n",
    "        print(\"Se movió a la derecha\")\n",
    "    elif movimiento_x < 0:\n",
    "        print(\"Se movió a la izquierda\")\n",
    "\n",
    "    if movimiento_y > 0:\n",
    "        print(\"Se movió arriba\")\n",
    "    elif movimiento_y < 0:\n",
    "        print(\"Se movió abajo\")\n"
   ]
  }
 ],
 "metadata": {
  "kernelspec": {
   "display_name": "Python 3",
   "language": "python",
   "name": "python3"
  },
  "language_info": {
   "codemirror_mode": {
    "name": "ipython",
    "version": 3
   },
   "file_extension": ".py",
   "mimetype": "text/x-python",
   "name": "python",
   "nbconvert_exporter": "python",
   "pygments_lexer": "ipython3",
   "version": "3.12.5"
  }
 },
 "nbformat": 4,
 "nbformat_minor": 2
}
