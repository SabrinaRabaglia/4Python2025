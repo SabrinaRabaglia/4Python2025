{
 "cells": [
  {
   "cell_type": "code",
   "execution_count": null,
   "id": "64906b6f",
   "metadata": {},
   "outputs": [],
   "source": [
    "alumnos_presentes = [\"Rodrigo\", \"Lautaro\", \"Daniel\"]\n",
    "print(alumnos_presentes) #Imprime todo en la misma linea\n",
    "for alumno in alumnos_presentes:\n",
    "    print(alumno) # Printea cada elemento de la lista en una línea distinta\n"
   ]
  },
  {
   "cell_type": "markdown",
   "id": "c14df1d3",
   "metadata": {},
   "source": [
    "Hacer un programa que le solicite al usuario ingresar un número entero positivo y emita todos los números entre el 1 y el ingresado."
   ]
  },
  {
   "cell_type": "code",
   "execution_count": 2,
   "id": "66c82639",
   "metadata": {},
   "outputs": [
    {
     "name": "stdout",
     "output_type": "stream",
     "text": [
      "1\n",
      "2\n",
      "3\n",
      "4\n",
      "5\n"
     ]
    }
   ],
   "source": [
    "numero = int(input(\"Ingrese entero positivo: \"))\n",
    "\n",
    "for n in range(1, numero+1,1):\n",
    "    print(n)"
   ]
  },
  {
   "cell_type": "markdown",
   "id": "19eb8351",
   "metadata": {},
   "source": [
    "Hacer un programa que, dada una lista de números, muestre la cantidad de veces que se repite cada número."
   ]
  },
  {
   "cell_type": "code",
   "execution_count": 2,
   "id": "4e8f7158",
   "metadata": {},
   "outputs": [
    {
     "name": "stdout",
     "output_type": "stream",
     "text": [
      "3\n",
      "1\n",
      "5\n"
     ]
    }
   ],
   "source": [
    "numeros=[2,2,2,3,1,1,1,1,1]\n",
    "contador = 1\n",
    "for i in range(0,len(numeros)-1,1):\n",
    "    if numeros[i]==numeros[i+1]:\n",
    "        contador = contador +1\n",
    "    else:\n",
    "        print(contador)\n",
    "        contador=1\n",
    "print(contador)"
   ]
  },
  {
   "cell_type": "markdown",
   "id": "e5ccecb7",
   "metadata": {},
   "source": [
    "Hacer un programa que simule el uso de la tarjeta SUBE. \n",
    "El programa inicia pidiéndole al usuario que ingrese el SALDO INICIAL. \n",
    "Sabiendo que cada viaje sale $500 pesos y que el saldo máximo negativo es -$1000, el programa debe dejar que el usuario \"viaje\" y, al final, muestre la cantidad de veces que pudo hacerlo."
   ]
  },
  {
   "cell_type": "code",
   "execution_count": 4,
   "id": "ed96ce0c",
   "metadata": {},
   "outputs": [
    {
     "name": "stdout",
     "output_type": "stream",
     "text": [
      "Cantidad de viajes realizados: 2\n"
     ]
    }
   ],
   "source": [
    "saldo = float(input(\"Ingrese saldo inicial: \"))\n",
    "cantidad_viajes = 0\n",
    "while saldo - 500 >= -1000:\n",
    "    saldo-=500\n",
    "    cantidad_viajes +=1\n",
    "\n",
    "print(f\"Cantidad de viajes realizados: {cantidad_viajes}\")\n"
   ]
  },
  {
   "cell_type": "markdown",
   "id": "d83609f0",
   "metadata": {},
   "source": [
    "Hacer un programa que le pida al usuario que ingrese palabras. \n",
    "El programa termian cuando el usuario ingresa \"FIN\", y debe mostrar la cantidad de palabras distintas a FIN que se ingresaron."
   ]
  },
  {
   "cell_type": "code",
   "execution_count": 4,
   "id": "912db89f",
   "metadata": {},
   "outputs": [
    {
     "name": "stdout",
     "output_type": "stream",
     "text": [
      "2\n"
     ]
    }
   ],
   "source": [
    "cantidad=0\n",
    "palabra=input()\n",
    "while palabra!=\"FIN\":\n",
    "  cantidad+=1\n",
    "  palabra=input()\n",
    "print(cantidad)"
   ]
  }
 ],
 "metadata": {
  "kernelspec": {
   "display_name": "Python 3",
   "language": "python",
   "name": "python3"
  },
  "language_info": {
   "codemirror_mode": {
    "name": "ipython",
    "version": 3
   },
   "file_extension": ".py",
   "mimetype": "text/x-python",
   "name": "python",
   "nbconvert_exporter": "python",
   "pygments_lexer": "ipython3",
   "version": "3.12.5"
  }
 },
 "nbformat": 4,
 "nbformat_minor": 5
}
