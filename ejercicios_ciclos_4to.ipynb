{
 "cells": [
  {
   "cell_type": "markdown",
   "id": "d5d3bd4f",
   "metadata": {},
   "source": [
    "\"Hacer un programa que le pida al usuario que ingrese un número entero y muestre todos los números entre 1 y ese número\""
   ]
  },
  {
   "cell_type": "code",
   "execution_count": null,
   "id": "f8ac9ea7",
   "metadata": {},
   "outputs": [],
   "source": [
    "numero = int(input(\"Ingrese entero: \"))\n",
    "for i in range(1, numero+1, 1):\n",
    "    print(i)\n"
   ]
  },
  {
   "cell_type": "markdown",
   "id": "01ffe97f",
   "metadata": {},
   "source": [
    "Ahora agregamos una nueva validación: si el número ingresado es menor o igual a 1, debe emitir un mensaje de error. "
   ]
  },
  {
   "cell_type": "code",
   "execution_count": 4,
   "id": "f7b6cb69",
   "metadata": {},
   "outputs": [
    {
     "name": "stdout",
     "output_type": "stream",
     "text": [
      "1\n",
      "2\n",
      "3\n",
      "4\n"
     ]
    }
   ],
   "source": [
    "numero = int(input())\n",
    "if numero >1: \n",
    "    for i in range(1, numero+1, 1):\n",
    "        print(i)\n",
    "else:\n",
    "    print(\"Error en el numero ingresado\")"
   ]
  },
  {
   "cell_type": "markdown",
   "id": "f2a1e5fa",
   "metadata": {},
   "source": [
    "\"Pedirle al usuario que ingrese un número y: \n",
    "- Si es menor a 0, mostrar los números del 1 al 10.\n",
    "- Si es mayor a 0, mostrar los números entre 1 y ese número.\n",
    "- Si es igual a 0, sólo mostrar 0. \n",
    "\""
   ]
  },
  {
   "cell_type": "code",
   "execution_count": null,
   "id": "dc1418b8",
   "metadata": {},
   "outputs": [],
   "source": [
    "num = int(input())\n",
    "if num ==0:\n",
    "    print(\"0\")\n",
    "elif num <0:\n",
    "    for i in range(1,11, 1):\n",
    "        print(i)\n",
    "else:\n",
    "    for i in range(1, num+1, 1):\n",
    "        print(i)"
   ]
  }
 ],
 "metadata": {
  "kernelspec": {
   "display_name": "Python 3",
   "language": "python",
   "name": "python3"
  },
  "language_info": {
   "codemirror_mode": {
    "name": "ipython",
    "version": 3
   },
   "file_extension": ".py",
   "mimetype": "text/x-python",
   "name": "python",
   "nbconvert_exporter": "python",
   "pygments_lexer": "ipython3",
   "version": "3.12.5"
  }
 },
 "nbformat": 4,
 "nbformat_minor": 5
}
