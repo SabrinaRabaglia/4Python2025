{
 "cells": [
  {
   "cell_type": "code",
   "execution_count": 12,
   "id": "f1936275",
   "metadata": {},
   "outputs": [],
   "source": [
    "class Perro:\n",
    "    def __init__(self, nombre,edad):\n",
    "        # Atributo\n",
    "        self.nombre = nombre\n",
    "        self.edad=edad\n",
    "    \n",
    "    # Método\n",
    "    def ladrar(self):\n",
    "        print(f\"{self.nombre} está ladrando\")\n",
    "    \n",
    "    def decir_edad(self):\n",
    "        print(f\"{self.nombre} tiene {self.edad} años\" )\n",
    "\n",
    "    def cumplir_años(self):\n",
    "        self.edad=self.edad+1\n",
    "        self.decir_edad() \n",
    "\n",
    "\n"
   ]
  },
  {
   "cell_type": "code",
   "execution_count": 13,
   "id": "a432002d",
   "metadata": {},
   "outputs": [
    {
     "name": "stdout",
     "output_type": "stream",
     "text": [
      "Fatiga tiene 12 años\n",
      "Fatiga tiene 13 años\n"
     ]
    }
   ],
   "source": [
    "# Crear un objeto (instancia) de la clase\n",
    "mi_perro = Perro(\"Fatiga\",12)\n",
    "\n",
    "# Usar el método del objeto\n",
    "\n",
    "mi_perro.decir_edad()\n",
    "\n",
    "mi_perro.cumplir_años()"
   ]
  }
 ],
 "metadata": {
  "kernelspec": {
   "display_name": "Python 3",
   "language": "python",
   "name": "python3"
  },
  "language_info": {
   "codemirror_mode": {
    "name": "ipython",
    "version": 3
   },
   "file_extension": ".py",
   "mimetype": "text/x-python",
   "name": "python",
   "nbconvert_exporter": "python",
   "pygments_lexer": "ipython3",
   "version": "3.12.5"
  }
 },
 "nbformat": 4,
 "nbformat_minor": 5
}
