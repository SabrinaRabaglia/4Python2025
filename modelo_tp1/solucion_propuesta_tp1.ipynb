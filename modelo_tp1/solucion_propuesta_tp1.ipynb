{
  "nbformat": 4,
  "nbformat_minor": 0,
  "metadata": {
    "colab": {
      "provenance": []
    },
    "kernelspec": {
      "name": "python3",
      "display_name": "Python 3"
    },
    "language_info": {
      "name": "python"
    }
  },
  "cells": [
    {
      "cell_type": "markdown",
      "source": [
        "Dentro de un juego, tenemos un personaje “Héroe”, que empieza con 100 puntos de vida. El personaje tiene un escudo, que puede activarse o no, eso se decide ingresando por pantalla “si” o “no”.  Al personaje lo atacan, con una cantidad de puntos que se ingresa cuando están jugando. Si el escudo está activado, el héroe se salva y no pierde puntos de vida. Si no está activado, pierde la cantidad de puntos de vida que se ingresó por la pantalla. Al final del programa, tiene que mostrar cuánta vida le quedó y si vive o muere (Si la vida es 0 o menos, murió. Si su vida es mayor a 0, sigue vivo el héroe)."
      ],
      "metadata": {
        "id": "ojg6VdQTmxXQ"
      }
    },
    {
      "cell_type": "code",
      "source": [
        "vida = 100 #La vida con la que empieza el héroe\n",
        "tiene_escudo = input(\"Tiene escudo activado?: \") #Pregunta y el usuario ingresa un string.\n",
        "#Si la respuesta del usuario no es una opción válida:\n",
        "if tiene_escudo != \"si\" and tiene_escudo != \"no\" :\n",
        "    print(\"GAME OVER. Fin del programa.\") #Si es Verdadero, termina el juego\n",
        "else:#Si es falso, o sea que lo que el usuario entró es válido\n",
        "    ataque = int(input(\"Cuanto  daño recibe el héroe?: \"))\n",
        "    if tiene_escudo == \"si\":\n",
        "        print(\" No pierde vida.\")\n",
        "        #Solo hace print de la cantidad de vida que tenía.\n",
        "        #Como no pierde vida, la vida se mantiene igual, no hago ninguna cuenta.\n",
        "    else:#Acá es si no tiene escudo:\n",
        "        vida=vida-ataque #La vida del personaje es la vida que tenía menos el ataque que recibe\n",
        "\n",
        "    print(f\"Vida restante del héroe: {vida}\")\n",
        "    #Esto muestra la vida, indpendientemente de si tenía o no el escudo activado.\n",
        "\n",
        "    if vida > 0: #Si todavía le queda vida:\n",
        "        print(\"El héroe sigue vivo.\")\n",
        "    else: #Si vida es igual o menor a 0.\n",
        "        print(\"El héroe murió.\")"
      ],
      "metadata": {
        "colab": {
          "base_uri": "https://localhost:8080/"
        },
        "id": "MSebHqoukgjy",
        "outputId": "f74e6ce8-82df-4f44-e7bf-9806ae40bb4f"
      },
      "execution_count": 4,
      "outputs": [
        {
          "output_type": "stream",
          "name": "stdout",
          "text": [
            "Tiene escudo activado?: no\n",
            "Cuanto  daño recibe el héroe?: 78\n",
            "Vida restante del héroe: 22\n",
            "El héroe sigue vivo.\n"
          ]
        }
      ]
    },
    {
      "cell_type": "markdown",
      "source": [
        "2. Tenemos un personaje cuya vida inicial es determinada por un número que ingresa el jugador. Luego, el personaje encuentra un objeto que puede ser una bomba o una pócima.\n",
        "Si es una bomba, pierde 15 puntos de vida.\n",
        "Si es una pócima, gana 50 puntos de vida.\n",
        "Después de encontrar el objeto, si la vida del personaje termina siendo 0 o menos, termina el juego. Si no, muestra cuánta vida le queda."
      ],
      "metadata": {
        "id": "yRfdC5ryndt6"
      }
    },
    {
      "cell_type": "code",
      "source": [
        "vida = int(input())\n",
        "objeto_encontrado = input()\n",
        "if objeto_encontrado== \"bomba\":\n",
        "  vida = vida - 15\n",
        "elif objeto_encontrado == \"pocima\":\n",
        "  vida = vida + 50\n",
        "else:\n",
        "  print(\"El objeto encontrado no es válido\")\n",
        "\n",
        "if vida < 0:\n",
        "  print(\"Fin del juego\")\n",
        "if vida >=0:\n",
        "  print(f\"La vida del personaje es {vida}\")\n",
        "\n",
        "\n"
      ],
      "metadata": {
        "colab": {
          "base_uri": "https://localhost:8080/"
        },
        "id": "NNy3JR1bnhB7",
        "outputId": "9256eb5a-049f-4f08-c628-264421ca6178"
      },
      "execution_count": 9,
      "outputs": [
        {
          "output_type": "stream",
          "name": "stdout",
          "text": [
            "789\n",
            "jkh\n",
            "El objeto encontrado no es válido\n",
            "La vida del personaje es 789\n"
          ]
        }
      ]
    }
  ]
}