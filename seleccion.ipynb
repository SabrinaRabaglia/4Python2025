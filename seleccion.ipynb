{
 "cells": [
  {
   "cell_type": "code",
   "execution_count": 10,
   "metadata": {},
   "outputs": [
    {
     "name": "stdout",
     "output_type": "stream",
     "text": [
      "acceso denegado\n"
     ]
    }
   ],
   "source": [
    "password=\"redes2025\"\n",
    "new_password=input()\n",
    "if new_password==password:\n",
    "    print(\"acceso permitido\")\n",
    "else:\n",
    "    print(\"acceso denegado\")"
   ]
  },
  {
   "cell_type": "code",
   "execution_count": null,
   "metadata": {},
   "outputs": [
    {
     "name": "stdout",
     "output_type": "stream",
     "text": [
      "Se re murio \n"
     ]
    }
   ],
   "source": [
    "vida_inicial = int(input(\"Vida inicial del zombi\"))\n",
    "ataque = int(input(\"Cuanta vida le sacas al zombi?\"))\n",
    "vida_que_queda = vida_inicial - ataque\n",
    "if(vida_que_queda >0):\n",
    "    print(\"tiene vida\")\n",
    "else: \n",
    "    print(\"Se re murio \")\n",
    "\n",
    "vida_que_recupera = int(input(\"Cuanta vida recupera: \"))\n",
    "vida_final = vida_que_queda+vida_que_recupera\n",
    "if vida_final>0:\n",
    "    print(\"revivio el zombi\")"
   ]
  },
  {
   "cell_type": "code",
   "execution_count": null,
   "metadata": {},
   "outputs": [
    {
     "name": "stdout",
     "output_type": "stream",
     "text": [
      "es menor\n"
     ]
    }
   ],
   "source": [
    "edad= int(input())\n",
    "if edad >= 18:\n",
    "    print(\"es mayor de edad\")\n",
    "else: \n",
    "    print(\"es menor\")"
   ]
  }
 ],
 "metadata": {
  "kernelspec": {
   "display_name": "Python 3",
   "language": "python",
   "name": "python3"
  },
  "language_info": {
   "codemirror_mode": {
    "name": "ipython",
    "version": 3
   },
   "file_extension": ".py",
   "mimetype": "text/x-python",
   "name": "python",
   "nbconvert_exporter": "python",
   "pygments_lexer": "ipython3",
   "version": "3.12.5"
  }
 },
 "nbformat": 4,
 "nbformat_minor": 2
}
