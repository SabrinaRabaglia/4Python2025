{
 "cells": [
  {
   "cell_type": "code",
   "execution_count": null,
   "metadata": {},
   "outputs": [],
   "source": []
  },
  {
   "cell_type": "code",
   "execution_count": null,
   "metadata": {},
   "outputs": [],
   "source": [
    "#Este programa pide una edad y la muestra por pantalla.\n",
    "edad = int(input())\n",
    "print (edad)\n"
   ]
  },
  {
   "cell_type": "code",
   "execution_count": null,
   "metadata": {},
   "outputs": [],
   "source": [
    "#Ejemplos de operadores numericos en Python\n",
    "print(13+2)\n",
    "print(13-2)\n",
    "print(13*2)\n",
    "print(13/2)\n",
    "print(13//2)\n",
    "print(13%2)\n",
    "\n",
    "print(12-3*2)\n",
    "print(49//6)"
   ]
  },
  {
   "cell_type": "code",
   "execution_count": null,
   "metadata": {},
   "outputs": [],
   "source": [
    "#Operadores numericos usando variables\n",
    "n1=int(input())\n",
    "n2=int(input())\n",
    "suma=n1+n2\n",
    "producto = n1*n2\n",
    "print (suma)\n",
    "print(producto)"
   ]
  },
  {
   "cell_type": "code",
   "execution_count": null,
   "metadata": {},
   "outputs": [],
   "source": [
    "#ejemplo operador logico AND\n",
    "\n",
    "edad=int(input())\n",
    "esmayor=edad>=18\n",
    "registro= input (\"tiene registro?\")\n",
    "tieneregistro=registro==\"si\"\n",
    "puedeManejar=tieneregistro and esmayor\n",
    "print(puedeManejar)\""
   ]
  },
  {
   "cell_type": "code",
   "execution_count": null,
   "metadata": {},
   "outputs": [],
   "source": [
    "#Ejemplo de operador logico or\n",
    "promedioAnio=int(input())\n",
    "PromedioPaepa=int(input())\n",
    "pasaAnio=promedioAnio>=6\n",
    "pasaPaepa=PromedioPaepa>=6\n",
    "aprobo=pasaAnio or pasaPaepa\n",
    "print(aprobo)"
   ]
  },
  {
   "cell_type": "code",
   "execution_count": null,
   "metadata": {},
   "outputs": [],
   "source": [
    "#Ejemplos con operadores de comparacion\n",
    "\n",
    "print(3>5)\n",
    "\n",
    "edad=int(input())\n",
    "esmayor=edad>=18\n",
    "print(esmayor)\n",
    "\n",
    "num=int(input())\n",
    "print(num>5)\n",
    "print(num<5)"
   ]
  }
 ],
 "metadata": {
  "language_info": {
   "name": "python"
  }
 },
 "nbformat": 4,
 "nbformat_minor": 2
}
